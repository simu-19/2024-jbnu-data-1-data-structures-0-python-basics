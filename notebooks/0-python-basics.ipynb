{
 "cells": [
  {
   "cell_type": "markdown",
   "metadata": {},
   "source": [
    "# 0. Hello, Python! (Basic Data Types)\n",
    "\n",
    "This is a Python refresher notebook. It covers the basic data types in Python."
   ]
  },
  {
   "cell_type": "code",
   "execution_count": 17,
   "metadata": {},
   "outputs": [],
   "source": [
    "# --- Numeric Types ---\n",
    "# Integer\n",
    "\n",
    "\n",
    "# Float\n",
    "\n",
    "\n",
    "# Complex\n",
    "\n",
    "\n",
    "# --- String and Character ---\n",
    "# String\n",
    "\n",
    "\n",
    "# Character (In Python, a single character is just a string of length 1)\n",
    "\n",
    "\n",
    "# --- Boolean ---\n",
    "# Boolean values\n",
    "\n",
    "\n",
    "# --- Arrays (Lists) ---\n",
    "# List\n",
    "\n",
    "\n",
    "# Accessing list elements\n",
    "\n",
    "\n",
    "# Adding to a list\n",
    "\n",
    "\n",
    "# --- Objects (using classes) ---\n",
    "class Food:\n",
    "    def __init__(self,name):\n",
    "        self.name = name\n",
    "\n",
    "    def _init_(self,name = 'apple', color = 'red', size = '0',price = 0):\n",
    "        self.name = name\n",
    "        self.color = color\n",
    "        self.price = price\n",
    "        self.quantity = 1\n",
    "\n",
    "    def printInfo(self):\n",
    "        if self.name == '':\n",
    "            print(\"i am good.\")  \n",
    "        else:\n",
    "            print(\"i am g\",self.name) \n",
    "            print(f\"i am g {self.name}.\")\n",
    "\n",
    "            \n",
    "\n",
    "\n",
    "\n",
    "        \n",
    "\n",
    "      \n",
    "\n",
    "\n",
    "\n",
    "\n",
    "# Create an object of the Person class\n",
    "\n",
    "\n",
    "# --- Type Conversion ---\n",
    "# Convert integer to float\n",
    "\n",
    "\n",
    "# Convert float to integer (truncates the decimal part)\n",
    "\n",
    "\n",
    "# Convert boolean to integer\n",
    "\n",
    "\n",
    "# --- Type Checking ---\n"
   ]
  },
  {
   "cell_type": "code",
   "execution_count": 30,
   "metadata": {},
   "outputs": [
    {
     "ename": "TypeError",
     "evalue": "Food.__init__() missing 1 required positional argument: 'name'",
     "output_type": "error",
     "traceback": [
      "\u001b[0;31m---------------------------------------------------------------------------\u001b[0m",
      "\u001b[0;31mTypeError\u001b[0m                                 Traceback (most recent call last)",
      "Cell \u001b[0;32mIn[30], line 1\u001b[0m\n\u001b[0;32m----> 1\u001b[0m f1 \u001b[38;5;241m=\u001b[39m \u001b[43mFood\u001b[49m\u001b[43m(\u001b[49m\u001b[43m)\u001b[49m \n\u001b[1;32m      2\u001b[0m f2 \u001b[38;5;241m=\u001b[39m Food(\u001b[38;5;124m'\u001b[39m\u001b[38;5;124mbanana\u001b[39m\u001b[38;5;124m'\u001b[39m)\n\u001b[1;32m      3\u001b[0m f3 \u001b[38;5;241m=\u001b[39m Food(\u001b[38;5;124m'\u001b[39m\u001b[38;5;124morange\u001b[39m\u001b[38;5;124m'\u001b[39m,\u001b[38;5;124m'\u001b[39m\u001b[38;5;124morange\u001b[39m\u001b[38;5;124m'\u001b[39m)\n",
      "\u001b[0;31mTypeError\u001b[0m: Food.__init__() missing 1 required positional argument: 'name'"
     ]
    }
   ],
   "source": [
    "f1 = Food() \n",
    "f2 = Food('banana')\n",
    "f3 = Food('orange','orange')\n",
    "f4 = Food('grape' , size = 3)\n",
    "f5 = Food('pear',3) "
   ]
  },
  {
   "cell_type": "code",
   "execution_count": 29,
   "metadata": {},
   "outputs": [
    {
     "ename": "TypeError",
     "evalue": "Food.__init__() missing 1 required positional argument: 'name'",
     "output_type": "error",
     "traceback": [
      "\u001b[0;31m---------------------------------------------------------------------------\u001b[0m",
      "\u001b[0;31mTypeError\u001b[0m                                 Traceback (most recent call last)",
      "Cell \u001b[0;32mIn[29], line 1\u001b[0m\n\u001b[0;32m----> 1\u001b[0m f1 \u001b[38;5;241m=\u001b[39m \u001b[43mFood\u001b[49m\u001b[43m(\u001b[49m\u001b[43m)\u001b[49m \n\u001b[1;32m      2\u001b[0m f2 \u001b[38;5;241m=\u001b[39m Food(\u001b[38;5;124m'\u001b[39m\u001b[38;5;124mbanana\u001b[39m\u001b[38;5;124m'\u001b[39m) \n\u001b[1;32m      3\u001b[0m f3 \u001b[38;5;241m=\u001b[39m Food(\u001b[38;5;124m'\u001b[39m\u001b[38;5;124morange\u001b[39m\u001b[38;5;124m'\u001b[39m,\u001b[38;5;124m'\u001b[39m\u001b[38;5;124morange\u001b[39m\u001b[38;5;124m'\u001b[39m)\n",
      "\u001b[0;31mTypeError\u001b[0m: Food.__init__() missing 1 required positional argument: 'name'"
     ]
    }
   ],
   "source": [
    "f1 = Food() \n",
    "f2 = Food('banana') \n",
    "f3 = Food('orange','orange')\n",
    "f4 = Food('grape',size=3)\n",
    "f5 = Food('pear',3) "
   ]
  },
  {
   "cell_type": "markdown",
   "metadata": {},
   "source": [
    "# 1. Hello, World! (First Program)\n",
    "\n",
    "This is a simple introduction to Python syntax and the print() function."
   ]
  },
  {
   "cell_type": "code",
   "execution_count": null,
   "metadata": {},
   "outputs": [],
   "source": [
    "# Basic \"Hello, World!\" example\n"
   ]
  },
  {
   "cell_type": "markdown",
   "metadata": {},
   "source": [
    "# 2. Basic Math Operations\n",
    "\n",
    "Introduce variables and arithmetic operators."
   ]
  },
  {
   "cell_type": "code",
   "execution_count": null,
   "metadata": {},
   "outputs": [],
   "source": [
    "# Simple math operations\n",
    "\n",
    "\n",
    "# Addition\n",
    "\n",
    "# Subtraction\n",
    "\n",
    "# Multiplication\n",
    "\n",
    "# Division\n"
   ]
  },
  {
   "cell_type": "markdown",
   "metadata": {},
   "source": [
    "# 3. Getting User Input\n",
    "\n",
    "Demonstrates how to interact with the user via input()."
   ]
  },
  {
   "cell_type": "code",
   "execution_count": 31,
   "metadata": {},
   "outputs": [],
   "source": [
    "# Getting user input and using it\n",
    "name = input(\"what is your name? >>> \")\n",
    "print(\"Hello\" +name+ \"!\")\n",
    "\n",
    "# Working with numbers\n",
    "age = input(\"How old are you? >>> \") #string\n",
    "print(\"next year, you will be \" +str(int(age) +1)_+ \"!\")\n",
    "\n",
    "\n"
   ]
  },
  {
   "cell_type": "markdown",
   "metadata": {},
   "source": [
    "# 4. If Statements (Conditionals)\n",
    "\n",
    "Introduce the concept of decision-making using if, else, and elif."
   ]
  },
  {
   "cell_type": "code",
   "execution_count": null,
   "metadata": {},
   "outputs": [],
   "source": [
    "# Basic if-else example\n",
    "number = int(input(\"enter a number: >>> \"))\n",
    "\n",
    "if number > 0:\n",
    "    print(\"you are positive!\")\n",
    "\n",
    "\n",
    "    if number % 2 == 0:\n",
    "        print(\"you are even!\")\n",
    "    else:\n",
    "        print(\"you are odd!\")\n",
    "\n",
    "else:\n",
    "    print(\"you are odd or negative\")   \n"
   ]
  },
  {
   "cell_type": "markdown",
   "metadata": {},
   "source": [
    "# 5. For Loop (Iteration)\n",
    "\n",
    "A basic introduction to loops with a for loop that repeats a certain number of times."
   ]
  },
  {
   "cell_type": "code",
   "execution_count": null,
   "metadata": {},
   "outputs": [],
   "source": [
    "# Basic for loop example\n",
    "for x in range(5):\n",
    "    print(\"Loop iteration\", x+1)"
   ]
  },
  {
   "cell_type": "code",
   "execution_count": null,
   "metadata": {},
   "outputs": [],
   "source": [
    "for x range (10,20,2):\n",
    "    print(\"Loop iritation\",x/2)"
   ]
  },
  {
   "cell_type": "markdown",
   "metadata": {},
   "source": [
    "# 6. While Loop (Iteration with Condition)\n",
    "\n",
    "Demonstrates a loop that runs until a condition is met."
   ]
  },
  {
   "cell_type": "code",
   "execution_count": null,
   "metadata": {},
   "outputs": [],
   "source": [
    "# Basic while loop example\n",
    "#For Loops need:\n",
    "#  1. start point\n",
    "#  2. end point (condition)\n",
    "#  3. step\n",
    "\n",
    "start = 1 # start point\n",
    "while start <= 12: # end point (condition)\n",
    "    print(\"count: \", start)\n",
    "    start += 1 # strep"
   ]
  },
  {
   "cell_type": "markdown",
   "metadata": {},
   "source": [
    "# 7. Basic Function Example\n",
    "\n",
    "Introducing how to write and call functions."
   ]
  },
  {
   "cell_type": "code",
   "execution_count": null,
   "metadata": {},
   "outputs": [],
   "source": [
    "# Function to greet the user\n"
   ]
  },
  {
   "cell_type": "markdown",
   "metadata": {},
   "source": [
    "# 8. Simple Temperature Converter\n",
    "\n",
    "Combines input, conditionals, and functions in a real-world example."
   ]
  },
  {
   "cell_type": "code",
   "execution_count": null,
   "metadata": {},
   "outputs": [],
   "source": [
    "# Function to convert Celsius to Fahrenheit\n",
    "\n",
    "\n",
    "# Get temperature from user\n"
   ]
  },
  {
   "cell_type": "markdown",
   "metadata": {},
   "source": [
    "# 9. Simple Guessing Game\n",
    "\n",
    "A fun exercise that involves loops, conditionals, and randomness."
   ]
  },
  {
   "cell_type": "code",
   "execution_count": null,
   "metadata": {},
   "outputs": [],
   "source": [
    "\n",
    "# Generate a random number between 1 and 10\n",
    "\n",
    "\n",
    "# Keep asking the user until they guess correctly\n"
   ]
  },
  {
   "cell_type": "markdown",
   "metadata": {},
   "source": [
    "# 10. FizzBuzz (Classic Example)\n",
    "\n",
    "A popular coding challenge that helps beginners practice conditionals and loops.\n",
    "\n",
    "**Problem Statement:**\n",
    "\n",
    "Print numbers from 1 to n, where n is a positive integer. For each number:\n",
    "\n",
    "- Print \"Fizz\" if the number is divisible by 3.\n",
    "- Print \"Buzz\" if the number is divisible by 5.\n",
    "- Print \"FizzBuzz\" if the number is divisible by both 3 and 5.\n",
    "- Print the number itself if it is not divisible by either 3 or 5."
   ]
  },
  {
   "cell_type": "code",
   "execution_count": null,
   "metadata": {},
   "outputs": [],
   "source": [
    "# FizzBuzz example\n"
   ]
  },
  {
   "cell_type": "markdown",
   "metadata": {},
   "source": [
    "# Bonus: Recursive Fibonacci Function\n",
    "\n",
    "A more advanced example that demonstrates recursion."
   ]
  },
  {
   "cell_type": "code",
   "execution_count": null,
   "metadata": {},
   "outputs": [],
   "source": [
    "def fibonacci(n):\n",
    "    # Base cases\n",
    "\n",
    "        # Recursive case: F(n) = F(n-1) + F(n-2)\n",
    "        \n",
    "\n",
    "# Example usage\n"
   ]
  },
  {
   "cell_type": "code",
   "execution_count": null,
   "metadata": {},
   "outputs": [],
   "source": []
  }
 ],
 "metadata": {
  "kernelspec": {
   "display_name": "Python 3",
   "language": "python",
   "name": "python3"
  },
  "language_info": {
   "codemirror_mode": {
    "name": "ipython",
    "version": 3
   },
   "file_extension": ".py",
   "mimetype": "text/x-python",
   "name": "python",
   "nbconvert_exporter": "python",
   "pygments_lexer": "ipython3",
   "version": "3.12.1"
  }
 },
 "nbformat": 4,
 "nbformat_minor": 2
}
